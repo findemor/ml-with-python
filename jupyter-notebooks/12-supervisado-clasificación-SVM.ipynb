{
 "cells": [
  {
   "cell_type": "markdown",
   "metadata": {},
   "source": [
    "# Support Vector Machines"
   ]
  },
  {
   "cell_type": "code",
   "execution_count": 1,
   "metadata": {},
   "outputs": [],
   "source": [
    "import pandas as pd\n",
    "import numpy as np\n",
    "import matplotlib.pyplot as plt"
   ]
  },
  {
   "cell_type": "markdown",
   "metadata": {},
   "source": [
    "## Exploración del Dataset"
   ]
  },
  {
   "cell_type": "code",
   "execution_count": 2,
   "metadata": {},
   "outputs": [
    {
     "name": "stdout",
     "output_type": "stream",
     "text": [
      "(150, 3)\n"
     ]
    },
    {
     "data": {
      "text/html": [
       "<div>\n",
       "<style scoped>\n",
       "    .dataframe tbody tr th:only-of-type {\n",
       "        vertical-align: middle;\n",
       "    }\n",
       "\n",
       "    .dataframe tbody tr th {\n",
       "        vertical-align: top;\n",
       "    }\n",
       "\n",
       "    .dataframe thead th {\n",
       "        text-align: right;\n",
       "    }\n",
       "</style>\n",
       "<table border=\"1\" class=\"dataframe\">\n",
       "  <thead>\n",
       "    <tr style=\"text-align: right;\">\n",
       "      <th></th>\n",
       "      <th>Petal.Length</th>\n",
       "      <th>Sepal.Width</th>\n",
       "      <th>Species</th>\n",
       "    </tr>\n",
       "  </thead>\n",
       "  <tbody>\n",
       "    <tr>\n",
       "      <th>0</th>\n",
       "      <td>1.4</td>\n",
       "      <td>3.5</td>\n",
       "      <td>setosa</td>\n",
       "    </tr>\n",
       "    <tr>\n",
       "      <th>1</th>\n",
       "      <td>1.4</td>\n",
       "      <td>3.0</td>\n",
       "      <td>setosa</td>\n",
       "    </tr>\n",
       "    <tr>\n",
       "      <th>2</th>\n",
       "      <td>1.3</td>\n",
       "      <td>3.2</td>\n",
       "      <td>setosa</td>\n",
       "    </tr>\n",
       "    <tr>\n",
       "      <th>3</th>\n",
       "      <td>1.5</td>\n",
       "      <td>3.1</td>\n",
       "      <td>setosa</td>\n",
       "    </tr>\n",
       "    <tr>\n",
       "      <th>4</th>\n",
       "      <td>1.4</td>\n",
       "      <td>3.6</td>\n",
       "      <td>setosa</td>\n",
       "    </tr>\n",
       "  </tbody>\n",
       "</table>\n",
       "</div>"
      ],
      "text/plain": [
       "   Petal.Length  Sepal.Width Species\n",
       "0           1.4          3.5  setosa\n",
       "1           1.4          3.0  setosa\n",
       "2           1.3          3.2  setosa\n",
       "3           1.5          3.1  setosa\n",
       "4           1.4          3.6  setosa"
      ]
     },
     "execution_count": 2,
     "metadata": {},
     "output_type": "execute_result"
    }
   ],
   "source": [
    "## nos vamos a quedar solo con dos caracteristicas, los sepalos, \n",
    "## para poder representarlo en un grafico de dos ejes ya que este ejercicio tiene finalidad didactica\n",
    "\n",
    "XC = \"Sepal.Length\"\n",
    "YC = \"Sepal.Width\"\n",
    "TC = \"Species\"\n",
    "\n",
    "data = pd.read_csv(\"datasets/iris.csv\")[[XC, YC, TC]]\n",
    "\n",
    "print(data.shape)\n",
    "data.head()"
   ]
  },
  {
   "cell_type": "markdown",
   "metadata": {},
   "source": [
    "## Conjuntos de entrenamiento y prueba"
   ]
  },
  {
   "cell_type": "code",
   "execution_count": 3,
   "metadata": {},
   "outputs": [],
   "source": [
    "from sklearn.model_selection import train_test_split\n",
    "\n",
    "train, test = train_test_split(data, test_size = 0.2, random_state = 50)\n",
    "\n",
    "X_train = train[[XC, YC]]\n",
    "Y_train = train[TC].replace(\"virginica\", 0).replace(\"versicolor\", 1).replace(\"setosa\", 2)\n",
    "\n",
    "X_test = test[[XC, YC]]\n",
    "Y_test = test[TC].replace(\"virginica\", 0).replace(\"versicolor\", 1).replace(\"setosa\", 2)"
   ]
  },
  {
   "cell_type": "markdown",
   "metadata": {},
   "source": [
    "## Modelo SVM"
   ]
  },
  {
   "cell_type": "code",
   "execution_count": 4,
   "metadata": {},
   "outputs": [],
   "source": [
    "from sklearn import svm"
   ]
  },
  {
   "cell_type": "code",
   "execution_count": 5,
   "metadata": {},
   "outputs": [],
   "source": [
    "# hacemos un modelo linear y otro radial para comparar resultado con distintos kernels\n",
    "C = 1.0\n",
    "SVM_linear = svm.SVC(kernel=\"linear\", C=C, decision_function_shape=\"ovr\").fit(X_train,Y_train) #ovr ajuste de datos lo mejor posible\n",
    "SVM_radial = svm.SVC(kernel=\"rbf\", C=C, decision_function_shape=\"ovr\").fit(X_train,Y_train) #ovr ajuste de datos lo mejor posible"
   ]
  },
  {
   "cell_type": "markdown",
   "metadata": {},
   "source": [
    "### Realizamos algunas predicciones"
   ]
  },
  {
   "cell_type": "code",
   "execution_count": 6,
   "metadata": {},
   "outputs": [
    {
     "data": {
      "text/html": [
       "<div>\n",
       "<style scoped>\n",
       "    .dataframe tbody tr th:only-of-type {\n",
       "        vertical-align: middle;\n",
       "    }\n",
       "\n",
       "    .dataframe tbody tr th {\n",
       "        vertical-align: top;\n",
       "    }\n",
       "\n",
       "    .dataframe thead th {\n",
       "        text-align: right;\n",
       "    }\n",
       "</style>\n",
       "<table border=\"1\" class=\"dataframe\">\n",
       "  <thead>\n",
       "    <tr style=\"text-align: right;\">\n",
       "      <th></th>\n",
       "      <th>Petal.Length</th>\n",
       "      <th>Sepal.Width</th>\n",
       "      <th>real</th>\n",
       "      <th>pred</th>\n",
       "    </tr>\n",
       "  </thead>\n",
       "  <tbody>\n",
       "    <tr>\n",
       "      <th>88</th>\n",
       "      <td>4.1</td>\n",
       "      <td>3.0</td>\n",
       "      <td>1</td>\n",
       "      <td>1</td>\n",
       "    </tr>\n",
       "    <tr>\n",
       "      <th>72</th>\n",
       "      <td>4.9</td>\n",
       "      <td>2.5</td>\n",
       "      <td>1</td>\n",
       "      <td>0</td>\n",
       "    </tr>\n",
       "    <tr>\n",
       "      <th>20</th>\n",
       "      <td>1.7</td>\n",
       "      <td>3.4</td>\n",
       "      <td>2</td>\n",
       "      <td>2</td>\n",
       "    </tr>\n",
       "    <tr>\n",
       "      <th>16</th>\n",
       "      <td>1.3</td>\n",
       "      <td>3.9</td>\n",
       "      <td>2</td>\n",
       "      <td>2</td>\n",
       "    </tr>\n",
       "    <tr>\n",
       "      <th>147</th>\n",
       "      <td>5.2</td>\n",
       "      <td>3.0</td>\n",
       "      <td>0</td>\n",
       "      <td>0</td>\n",
       "    </tr>\n",
       "  </tbody>\n",
       "</table>\n",
       "</div>"
      ],
      "text/plain": [
       "     Petal.Length  Sepal.Width  real  pred\n",
       "88            4.1          3.0     1     1\n",
       "72            4.9          2.5     1     0\n",
       "20            1.7          3.4     2     2\n",
       "16            1.3          3.9     2     2\n",
       "147           5.2          3.0     0     0"
      ]
     },
     "execution_count": 6,
     "metadata": {},
     "output_type": "execute_result"
    }
   ],
   "source": [
    "df = X_test.copy()\n",
    "df[\"real\"] = Y_test\n",
    "df[\"pred\"] = SVM_linear.predict(X_test)\n",
    "\n",
    "df.head()"
   ]
  },
  {
   "cell_type": "markdown",
   "metadata": {},
   "source": [
    "## Selección de parametros óptimos\n",
    "\n",
    "Utilizando la técnica de cross-validation"
   ]
  },
  {
   "cell_type": "code",
   "execution_count": 7,
   "metadata": {},
   "outputs": [],
   "source": [
    "## veamos cual es mejor usando la tecnica del grid cross validation\n",
    "\n",
    "from sklearn.model_selection import train_test_split, GridSearchCV\n",
    "from sklearn.metrics import classification_report\n",
    "from sklearn.utils import shuffle"
   ]
  },
  {
   "cell_type": "code",
   "execution_count": 8,
   "metadata": {},
   "outputs": [
    {
     "name": "stdout",
     "output_type": "stream",
     "text": [
      "Los mejores parametros son:  {'C': 1000, 'gamma': 0.01, 'kernel': 'rbf'}\n"
     ]
    }
   ],
   "source": [
    "parameters = [\n",
    "    { \n",
    "        'kernel': [\"rbf\"],\n",
    "        'gamma': [1e-4,1e-3,1e-2,0.1,0.2,0.5],\n",
    "        'C': [1,10,100,1000]\n",
    "    },\n",
    "    {\n",
    "        'kernel': [\"linear\"],\n",
    "        'C': [1,10,100,1000]\n",
    "    }\n",
    "]\n",
    "\n",
    "clf = GridSearchCV(svm.SVC(decision_function_shape=\"ovr\"), param_grid=parameters, cv=5)\n",
    "clf.fit(X_train,Y_train)\n",
    "\n",
    "print(\"Los mejores parametros son: \", str(clf.best_params_))"
   ]
  },
  {
   "cell_type": "markdown",
   "metadata": {},
   "source": [
    "### Evaluación del modelo"
   ]
  },
  {
   "cell_type": "code",
   "execution_count": 9,
   "metadata": {},
   "outputs": [
    {
     "name": "stdout",
     "output_type": "stream",
     "text": [
      "Puntuación media: 0.533 (+/-0.16) para {'C': 1, 'gamma': 0.0001, 'kernel': 'rbf'}\n",
      "Puntuación media: 0.683 (+/-0.02) para {'C': 1, 'gamma': 0.001, 'kernel': 'rbf'}\n",
      "Puntuación media: 0.950 (+/-0.03) para {'C': 1, 'gamma': 0.01, 'kernel': 'rbf'}\n",
      "Puntuación media: 0.958 (+/-0.05) para {'C': 1, 'gamma': 0.1, 'kernel': 'rbf'}\n",
      "Puntuación media: 0.958 (+/-0.05) para {'C': 1, 'gamma': 0.2, 'kernel': 'rbf'}\n",
      "Puntuación media: 0.958 (+/-0.05) para {'C': 1, 'gamma': 0.5, 'kernel': 'rbf'}\n",
      "Puntuación media: 0.683 (+/-0.02) para {'C': 10, 'gamma': 0.0001, 'kernel': 'rbf'}\n",
      "Puntuación media: 0.950 (+/-0.03) para {'C': 10, 'gamma': 0.001, 'kernel': 'rbf'}\n",
      "Puntuación media: 0.958 (+/-0.05) para {'C': 10, 'gamma': 0.01, 'kernel': 'rbf'}\n",
      "Puntuación media: 0.958 (+/-0.05) para {'C': 10, 'gamma': 0.1, 'kernel': 'rbf'}\n",
      "Puntuación media: 0.958 (+/-0.05) para {'C': 10, 'gamma': 0.2, 'kernel': 'rbf'}\n",
      "Puntuación media: 0.958 (+/-0.05) para {'C': 10, 'gamma': 0.5, 'kernel': 'rbf'}\n",
      "Puntuación media: 0.950 (+/-0.03) para {'C': 100, 'gamma': 0.0001, 'kernel': 'rbf'}\n",
      "Puntuación media: 0.958 (+/-0.05) para {'C': 100, 'gamma': 0.001, 'kernel': 'rbf'}\n",
      "Puntuación media: 0.958 (+/-0.05) para {'C': 100, 'gamma': 0.01, 'kernel': 'rbf'}\n",
      "Puntuación media: 0.958 (+/-0.03) para {'C': 100, 'gamma': 0.1, 'kernel': 'rbf'}\n",
      "Puntuación media: 0.950 (+/-0.04) para {'C': 100, 'gamma': 0.2, 'kernel': 'rbf'}\n",
      "Puntuación media: 0.925 (+/-0.03) para {'C': 100, 'gamma': 0.5, 'kernel': 'rbf'}\n",
      "Puntuación media: 0.958 (+/-0.05) para {'C': 1000, 'gamma': 0.0001, 'kernel': 'rbf'}\n",
      "Puntuación media: 0.958 (+/-0.05) para {'C': 1000, 'gamma': 0.001, 'kernel': 'rbf'}\n",
      "Puntuación media: 0.967 (+/-0.03) para {'C': 1000, 'gamma': 0.01, 'kernel': 'rbf'}\n",
      "Puntuación media: 0.950 (+/-0.04) para {'C': 1000, 'gamma': 0.1, 'kernel': 'rbf'}\n",
      "Puntuación media: 0.925 (+/-0.03) para {'C': 1000, 'gamma': 0.2, 'kernel': 'rbf'}\n",
      "Puntuación media: 0.917 (+/-0.04) para {'C': 1000, 'gamma': 0.5, 'kernel': 'rbf'}\n",
      "Puntuación media: 0.958 (+/-0.05) para {'C': 1, 'kernel': 'linear'}\n",
      "Puntuación media: 0.958 (+/-0.05) para {'C': 10, 'kernel': 'linear'}\n",
      "Puntuación media: 0.958 (+/-0.03) para {'C': 100, 'kernel': 'linear'}\n",
      "Puntuación media: 0.950 (+/-0.04) para {'C': 1000, 'kernel': 'linear'}\n"
     ]
    }
   ],
   "source": [
    "medias = clf.cv_results_[\"mean_test_score\"]\n",
    "desviaciones_estandar = clf.cv_results_[\"std_test_score\"]\n",
    "parametros = clf.cv_results_[\"params\"]\n",
    "\n",
    "for m, s, p in zip(medias, desviaciones_estandar, parametros):\n",
    "    print(\"Puntuación media: %0.3f (+/-%0.2f) para %r\"%(m,s,p))"
   ]
  },
  {
   "cell_type": "markdown",
   "metadata": {},
   "source": [
    "### Test con los parametros óptimos"
   ]
  },
  {
   "cell_type": "code",
   "execution_count": 10,
   "metadata": {},
   "outputs": [
    {
     "name": "stdout",
     "output_type": "stream",
     "text": [
      "              precision    recall  f1-score   support\n",
      "\n",
      "   virginica       0.82      1.00      0.90         9\n",
      "  versicolor       1.00      0.83      0.91        12\n",
      "      setosa       1.00      1.00      1.00         9\n",
      "\n",
      "    accuracy                           0.93        30\n",
      "   macro avg       0.94      0.94      0.94        30\n",
      "weighted avg       0.95      0.93      0.93        30\n",
      "\n"
     ]
    }
   ],
   "source": [
    "Y_pred = clf.predict(X_test)\n",
    "\n",
    "print(classification_report(Y_test, Y_pred, target_names=[\"virginica\", \"versicolor\", \"setosa\"]))\n",
    "\n",
    "# Recordatorio:\n",
    "## precision = especifidad (verdaderos aciertos)\n",
    "## recall = sensibilidad (falsos negativos)"
   ]
  },
  {
   "cell_type": "markdown",
   "metadata": {},
   "source": [
    "## Representación gráfica\n",
    "\n",
    "De manera interactiva."
   ]
  },
  {
   "cell_type": "code",
   "execution_count": 11,
   "metadata": {},
   "outputs": [],
   "source": [
    "def svm_visualize(X,Y, C=1.0, gamma=0.01, kernel=\"rbf\"):\n",
    "    \n",
    "    import pandas as pd\n",
    "    import numpy as np\n",
    "    from sklearn import svm\n",
    "    import matplotlib.pyplot as plt\n",
    "    \n",
    "    x_min, x_max = X.iloc[:,0].min()-1, X.iloc[:,0].max()+1\n",
    "    y_min, y_max = X.iloc[:,1].min()-1, X.iloc[:,1].max()+1\n",
    "    h = (x_max - x_min)/100 #dividimos para tener 100 trocitos\n",
    "    xx, yy = np.meshgrid(np.arange(x_min, x_max, h), np.arange(y_min, y_max, h)) \n",
    "    X_plot = np.c_[xx.ravel(), yy.ravel()]\n",
    "\n",
    "    svc = svm.SVC(kernel=kernel, C=C, gamma=gamma, decision_function_shape=\"ovr\").fit(X,Y) #ovr ajuste de datos lo mejor posible\n",
    "    Ypred = svc.predict(X_plot)\n",
    "    Ypred = Ypred.reshape(xx.shape)\n",
    "    \n",
    "    plt.figure(figsize=(15,5))\n",
    "    plt.contourf(xx,yy,Ypred, cmap=plt.cm.tab10, alpha = 0.3) #(tab10 son 10 colores con transparencias)\n",
    "    plt.scatter(X.iloc[:,0], X.iloc[:,1], c=Y, cmap=plt.cm.Set1)\n",
    "\n",
    "    plt.xlim(xx.min(), xx.max())\n",
    "    \n",
    "    plt.title(\"SVM, kernel \" + kernel)"
   ]
  },
  {
   "cell_type": "code",
   "execution_count": 12,
   "metadata": {},
   "outputs": [
    {
     "data": {
      "application/vnd.jupyter.widget-view+json": {
       "model_id": "16aea701ef124db9bf2b9c2b4a233a03",
       "version_major": 2,
       "version_minor": 0
      },
      "text/plain": [
       "interactive(children=(Dropdown(description='C', index=2, options=(0.01, 0.1, 1, 10, 100, 1000, 1000000.0, 1000…"
      ]
     },
     "metadata": {},
     "output_type": "display_data"
    },
    {
     "data": {
      "text/plain": [
       "<function __main__.svm_visualize(X, Y, C=1.0, gamma=0.01, kernel='rbf')>"
      ]
     },
     "execution_count": 12,
     "metadata": {},
     "output_type": "execute_result"
    }
   ],
   "source": [
    "from ipywidgets import interact, fixed\n",
    "from sklearn import datasets\n",
    "\n",
    "X = data[[XC,YC]]\n",
    "Y = data[TC].replace(\"virginica\", 0).replace(\"versicolor\", 1).replace(\"setosa\", 2)\n",
    "    \n",
    "interact(svm_visualize, X=fixed(X), Y=fixed(Y),\n",
    "         C=[0.01, 0.1, 1,10,100,1000,1e6, 1e10], \n",
    "         gamma=[1e-5,1e-4,1e-3,1e-2,0.1,0.2,0.5,0.99],\n",
    "         kernel=[\"rbf\",\"linear\",\"sigmoid\",\"poly\",\"precomputed\"])"
   ]
  }
 ],
 "metadata": {
  "kernelspec": {
   "display_name": "Python 3",
   "language": "python",
   "name": "python3"
  },
  "language_info": {
   "codemirror_mode": {
    "name": "ipython",
    "version": 3
   },
   "file_extension": ".py",
   "mimetype": "text/x-python",
   "name": "python",
   "nbconvert_exporter": "python",
   "pygments_lexer": "ipython3",
   "version": "3.8.5"
  }
 },
 "nbformat": 4,
 "nbformat_minor": 2
}
